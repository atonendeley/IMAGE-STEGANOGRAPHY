{
  "cells": [
    {
      "cell_type": "markdown",
      "metadata": {
        "id": "view-in-github",
        "colab_type": "text"
      },
      "source": [
        "<a href=\"https://colab.research.google.com/github/atonendeley/IMAGE-STEGANOGRAPHY/blob/main/Copy_of_CE903_draft_Copy_of_Steganography_Assignment.ipynb\" target=\"_parent\"><img src=\"https://colab.research.google.com/assets/colab-badge.svg\" alt=\"Open In Colab\"/></a>"
      ]
    },
    {
      "cell_type": "markdown",
      "id": "68ba7e37",
      "metadata": {
        "id": "68ba7e37"
      },
      "source": [
        "Step 1: Import the required library/package.\n",
        "Step 2: Open the file or Image.\n",
        "Step 3: Encode some text into the source Image & then save it.\n",
        "Step 4: Check both the images (with and without hidden data file) and see if there is any visible changes.\n",
        "Step 5: Decode the image- to extract data from the image."
      ]
    },
    {
      "cell_type": "code",
      "execution_count": null,
      "id": "e40b1b08",
      "metadata": {
        "colab": {
          "base_uri": "https://localhost:8080/"
        },
        "id": "e40b1b08",
        "outputId": "ac2e81ea-23ef-4536-8f87-a517d067fb16"
      },
      "outputs": [
        {
          "output_type": "stream",
          "name": "stdout",
          "text": [
            "Requirement already satisfied: pillow in /usr/local/lib/python3.7/dist-packages (7.1.2)\n"
          ]
        }
      ],
      "source": [
        "!pip install pillow\n"
      ]
    },
    {
      "cell_type": "markdown",
      "id": "2b75f0bb",
      "metadata": {
        "id": "2b75f0bb"
      },
      "source": [
        "Example Code\n"
      ]
    },
    {
      "cell_type": "code",
      "execution_count": null,
      "id": "f6884440",
      "metadata": {
        "colab": {
          "base_uri": "https://localhost:8080/"
        },
        "id": "f6884440",
        "outputId": "d2c3cd36-0f60-4eb4-b0a0-d6d78cfbfaf3"
      },
      "outputs": [
        {
          "output_type": "stream",
          "name": "stdout",
          "text": [
            "Collecting stepic\n",
            "  Downloading stepic-0.5.0.tar.gz (219 kB)\n",
            "\u001b[?25l\r\u001b[K     |█▌                              | 10 kB 23.6 MB/s eta 0:00:01\r\u001b[K     |███                             | 20 kB 10.3 MB/s eta 0:00:01\r\u001b[K     |████▌                           | 30 kB 8.6 MB/s eta 0:00:01\r\u001b[K     |██████                          | 40 kB 8.1 MB/s eta 0:00:01\r\u001b[K     |███████▌                        | 51 kB 4.9 MB/s eta 0:00:01\r\u001b[K     |█████████                       | 61 kB 5.4 MB/s eta 0:00:01\r\u001b[K     |██████████▌                     | 71 kB 5.4 MB/s eta 0:00:01\r\u001b[K     |████████████                    | 81 kB 6.0 MB/s eta 0:00:01\r\u001b[K     |█████████████▌                  | 92 kB 4.7 MB/s eta 0:00:01\r\u001b[K     |███████████████                 | 102 kB 5.1 MB/s eta 0:00:01\r\u001b[K     |████████████████▍               | 112 kB 5.1 MB/s eta 0:00:01\r\u001b[K     |██████████████████              | 122 kB 5.1 MB/s eta 0:00:01\r\u001b[K     |███████████████████▍            | 133 kB 5.1 MB/s eta 0:00:01\r\u001b[K     |█████████████████████           | 143 kB 5.1 MB/s eta 0:00:01\r\u001b[K     |██████████████████████▍         | 153 kB 5.1 MB/s eta 0:00:01\r\u001b[K     |████████████████████████        | 163 kB 5.1 MB/s eta 0:00:01\r\u001b[K     |█████████████████████████▍      | 174 kB 5.1 MB/s eta 0:00:01\r\u001b[K     |███████████████████████████     | 184 kB 5.1 MB/s eta 0:00:01\r\u001b[K     |████████████████████████████▍   | 194 kB 5.1 MB/s eta 0:00:01\r\u001b[K     |██████████████████████████████  | 204 kB 5.1 MB/s eta 0:00:01\r\u001b[K     |███████████████████████████████▍| 215 kB 5.1 MB/s eta 0:00:01\r\u001b[K     |████████████████████████████████| 219 kB 5.1 MB/s \n",
            "\u001b[?25hRequirement already satisfied: pillow in /usr/local/lib/python3.7/dist-packages (from stepic) (7.1.2)\n",
            "Building wheels for collected packages: stepic\n",
            "  Building wheel for stepic (setup.py) ... \u001b[?25l\u001b[?25hdone\n",
            "  Created wheel for stepic: filename=stepic-0.5.0-py3-none-any.whl size=12428 sha256=142a933fd5c4c774cfce22f83ad7823febd0ddbd62a09c434bd97e7abff1d369\n",
            "  Stored in directory: /root/.cache/pip/wheels/47/8d/57/322e721ace59cf72d328242bbc636e6affc672344cf5480f33\n",
            "Successfully built stepic\n",
            "Installing collected packages: stepic\n",
            "Successfully installed stepic-0.5.0\n"
          ]
        }
      ],
      "source": [
        "!pip install stepic"
      ]
    },
    {
      "cell_type": "code",
      "execution_count": null,
      "id": "55ee8489",
      "metadata": {
        "id": "55ee8489"
      },
      "outputs": [],
      "source": [
        "#Import the required library\n",
        "import matplotlib.pyplot as plt\n",
        "from matplotlib import pyplot\n",
        "from PIL import Image\n",
        "import stepic"
      ]
    },
    {
      "cell_type": "code",
      "execution_count": null,
      "id": "ef6b9afb",
      "metadata": {
        "id": "ef6b9afb"
      },
      "outputs": [],
      "source": [
        "#Open Image or file in which you want to hide your data\n",
        "im = Image.open(\"autumn1.png\")"
      ]
    },
    {
      "cell_type": "code",
      "execution_count": null,
      "id": "70265a0f",
      "metadata": {
        "id": "70265a0f"
      },
      "outputs": [],
      "source": [
        "#Encode some text into your Image file and save it in another file\n",
        "im1 = stepic.encode(im, b'Hello Python')\n",
        "im1.save(\"autumn1.png\", 'PNG')"
      ]
    },
    {
      "cell_type": "code",
      "execution_count": null,
      "id": "5e1d121a",
      "metadata": {
        "id": "5e1d121a"
      },
      "outputs": [],
      "source": [
        "#Now is the time to check both images and see if there is any visible changes\n",
        "im1 = Image.open(\"autumn1.png\")\n",
        "im1.show()"
      ]
    },
    {
      "cell_type": "code",
      "execution_count": null,
      "id": "32dfa97b",
      "metadata": {
        "id": "32dfa97b"
      },
      "outputs": [],
      "source": [
        "im.show()"
      ]
    },
    {
      "cell_type": "code",
      "execution_count": null,
      "id": "bc0dea0a",
      "metadata": {
        "colab": {
          "base_uri": "https://localhost:8080/",
          "height": 35
        },
        "id": "bc0dea0a",
        "outputId": "91aa310e-dcd9-400e-8ed5-b814e21c0794"
      },
      "outputs": [
        {
          "output_type": "execute_result",
          "data": {
            "application/vnd.google.colaboratory.intrinsic+json": {
              "type": "string"
            },
            "text/plain": [
              "'Hello Python'"
            ]
          },
          "metadata": {},
          "execution_count": 7
        }
      ],
      "source": [
        "#Decode the image so as to extract the hidden data from the image\n",
        "im2 = Image.open('autumn1.png')\n",
        "stegoImage = stepic.decode(im2)\n",
        "stegoImage\n",
        "'Hello Python'"
      ]
    },
    {
      "cell_type": "code",
      "execution_count": null,
      "id": "9562d092",
      "metadata": {
        "id": "9562d092"
      },
      "outputs": [],
      "source": [
        "from PIL import Image\n"
      ]
    },
    {
      "cell_type": "code",
      "execution_count": null,
      "id": "478608a0",
      "metadata": {
        "id": "478608a0"
      },
      "outputs": [],
      "source": [
        "import stepic"
      ]
    },
    {
      "cell_type": "code",
      "execution_count": null,
      "id": "463c267f",
      "metadata": {
        "id": "463c267f"
      },
      "outputs": [],
      "source": [
        "image = Image.open(\"Nice.jpg\")\n",
        "\n",
        "image.show()\n"
      ]
    },
    {
      "cell_type": "code",
      "source": [
        "# Image Details\n",
        "print(image.format)\n",
        "print(image.size)\n",
        "print(image.mode)"
      ],
      "metadata": {
        "colab": {
          "base_uri": "https://localhost:8080/"
        },
        "id": "lid11p89XIYX",
        "outputId": "96d53e3f-6dce-483c-fe9b-477b657a7d3a"
      },
      "id": "lid11p89XIYX",
      "execution_count": null,
      "outputs": [
        {
          "output_type": "stream",
          "name": "stdout",
          "text": [
            "PNG\n",
            "(412, 338)\n",
            "RGBA\n"
          ]
        }
      ]
    },
    {
      "cell_type": "code",
      "source": [
        "# Crop the Image\n",
        "dimensions = (100, 100, 500, 500)\n",
        "cropped = image.crop(dimensions)\n",
        "cropped.show()"
      ],
      "metadata": {
        "id": "KxgpyMxaXUh7"
      },
      "id": "KxgpyMxaXUh7",
      "execution_count": null,
      "outputs": []
    },
    {
      "cell_type": "code",
      "source": [
        "# Resize Image\n",
        "new = image.resize((200, 200))\n",
        "new.show()"
      ],
      "metadata": {
        "id": "iidSZ7IXXrzv"
      },
      "id": "iidSZ7IXXrzv",
      "execution_count": null,
      "outputs": []
    },
    {
      "cell_type": "code",
      "execution_count": null,
      "id": "29148ff9",
      "metadata": {
        "id": "29148ff9"
      },
      "outputs": [],
      "source": [
        "img1 = stepic.encode(im, b'This is a trial')\n",
        "img1.save('Nice.jpg', 'PNG')"
      ]
    },
    {
      "cell_type": "code",
      "execution_count": null,
      "id": "182c8e48",
      "metadata": {
        "id": "182c8e48"
      },
      "outputs": [],
      "source": [
        "img1 = Image.open('Nice.jpg')\n",
        "img1.show()"
      ]
    },
    {
      "cell_type": "code",
      "execution_count": null,
      "id": "9cd04a11",
      "metadata": {
        "colab": {
          "base_uri": "https://localhost:8080/"
        },
        "id": "9cd04a11",
        "outputId": "516558ba-6a0f-443c-e9d2-0f37e97e1afb"
      },
      "outputs": [
        {
          "output_type": "stream",
          "name": "stdout",
          "text": [
            "This is a trial\n"
          ]
        }
      ],
      "source": [
        "im2 = Image.open('Nice.jpg')\n",
        "message_hidden = stepic.decode(im2)\n",
        "print(message_hidden)"
      ]
    }
  ],
  "metadata": {
    "kernelspec": {
      "display_name": "Python 3",
      "language": "python",
      "name": "python3"
    },
    "language_info": {
      "codemirror_mode": {
        "name": "ipython",
        "version": 3
      },
      "file_extension": ".py",
      "mimetype": "text/x-python",
      "name": "python",
      "nbconvert_exporter": "python",
      "pygments_lexer": "ipython3",
      "version": "3.8.8"
    },
    "colab": {
      "provenance": [],
      "include_colab_link": true
    },
    "accelerator": "GPU"
  },
  "nbformat": 4,
  "nbformat_minor": 5
}