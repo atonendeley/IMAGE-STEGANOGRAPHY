{
  "nbformat": 4,
  "nbformat_minor": 0,
  "metadata": {
    "colab": {
      "provenance": [],
      "authorship_tag": "ABX9TyO7Z2moGe33TLXOXJey2xpe",
      "include_colab_link": true
    },
    "kernelspec": {
      "name": "python3",
      "display_name": "Python 3"
    },
    "language_info": {
      "name": "python"
    }
  },
  "cells": [
    {
      "cell_type": "markdown",
      "metadata": {
        "id": "view-in-github",
        "colab_type": "text"
      },
      "source": [
        "<a href=\"https://colab.research.google.com/github/atonendeley/IMAGE-STEGANOGRAPHY/blob/main/Marks_2.ipynb\" target=\"_parent\"><img src=\"https://colab.research.google.com/assets/colab-badge.svg\" alt=\"Open In Colab\"/></a>"
      ]
    },
    {
      "cell_type": "code",
      "execution_count": 1,
      "metadata": {
        "colab": {
          "base_uri": "https://localhost:8080/"
        },
        "id": "d6wYwb9TALKj",
        "outputId": "5ce4841e-fddd-4891-fd8c-825352f13f97"
      },
      "outputs": [
        {
          "output_type": "stream",
          "name": "stdout",
          "text": [
            "Enter your overall marks for Maths: 90\n",
            "Enter your overall marks for Physics: 78\n",
            "Enter your overall marks for Chemistry: 88\n",
            "Maths - Total Score: 90, Percentage: 90.0%\n",
            "Physics - Total Score: 78, Percentage: 78.0%\n",
            "Chemistry - Total Score: 88, Percentage: 88.0%\n"
          ]
        }
      ],
      "source": [
        "subjects = {\n",
        "    \"Maths\": 0,\n",
        "    \"Physics\": 0,\n",
        "    \"Chemistry\": 0\n",
        "}\n",
        "\n",
        "# Accept user input for each subject's total score\n",
        "for subject in subjects:\n",
        "    subjects[subject] = int(input(f\"Enter your overall marks for {subject}: \"))\n",
        "\n",
        "# Calculate the percentages for each subject\n",
        "total_marks = 100  # Assuming the maximum marks for each subject is 100\n",
        "percentages = {subject: (score / total_marks) * 100 for subject, score in subjects.items()}\n",
        "\n",
        "# Print the results\n",
        "for subject in subjects:\n",
        "    print(f\"{subject} - Total Score: {subjects[subject]}, Percentage: {percentages[subject]}%\")\n"
      ]
    }
  ]
}