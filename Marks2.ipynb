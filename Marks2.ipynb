{
  "nbformat": 4,
  "nbformat_minor": 0,
  "metadata": {
    "colab": {
      "provenance": [],
      "authorship_tag": "ABX9TyOaDZuoz910Pf2TsxuXJduD",
      "include_colab_link": true
    },
    "kernelspec": {
      "name": "python3",
      "display_name": "Python 3"
    },
    "language_info": {
      "name": "python"
    }
  },
  "cells": [
    {
      "cell_type": "markdown",
      "metadata": {
        "id": "view-in-github",
        "colab_type": "text"
      },
      "source": [
        "<a href=\"https://colab.research.google.com/github/atonendeley/IMAGE-STEGANOGRAPHY/blob/main/Marks2.ipynb\" target=\"_parent\"><img src=\"https://colab.research.google.com/assets/colab-badge.svg\" alt=\"Open In Colab\"/></a>"
      ]
    },
    {
      "cell_type": "code",
      "execution_count": 5,
      "metadata": {
        "colab": {
          "base_uri": "https://localhost:8080/"
        },
        "id": "GIvkYm2-7gCl",
        "outputId": "f445fa96-9491-4b53-ecdc-cd378fb57659"
      },
      "outputs": [
        {
          "name": "stdout",
          "output_type": "stream",
          "text": [
            "Enter your overall marks for Maths: 90\n",
            "Enter your overall marks for Physics: 78\n",
            "Enter your overall marks for Chemistry: 88\n"
          ]
        }
      ],
      "source": [
        "# Input total score for each subject\n",
        "maths_score = int(input(\"Enter your overall marks for Maths: \"))\n",
        "physics_score = int(input(\"Enter your overall marks for Physics: \"))\n",
        "chemistry_score = int(input(\"Enter your overall marks for Chemistry: \"))\n"
      ]
    },
    {
      "cell_type": "code",
      "source": [
        "# Calculate the percentage for each subject\n",
        "total_marks = 100  # Assume the maximum marks for each subject is 100\n",
        "maths_percentage = (maths_score / total_marks) * 100\n",
        "physics_percentage = (physics_score / total_marks) * 100\n",
        "chemistry_percentage = (chemistry_score / total_marks) * 100"
      ],
      "metadata": {
        "id": "mIcD3Xy19jQl"
      },
      "execution_count": 6,
      "outputs": []
    },
    {
      "cell_type": "code",
      "source": [
        "# Print the results\n",
        "print(f\"Maths - Total Score: {maths_score}, Percentage: {maths_percentage}%\")\n",
        "print(f\"Physics - Total Score: {physics_score}, Percentage: {physics_percentage}%\")\n",
        "print(f\"Chemistry - Total Score: {chemistry_score}, Percentage: {chemistry_percentage}%\")\n"
      ],
      "metadata": {
        "colab": {
          "base_uri": "https://localhost:8080/"
        },
        "id": "lgRkYiwD9puy",
        "outputId": "5e86b15a-20e0-4db6-f8b9-3e6eb8c3ebe0"
      },
      "execution_count": 7,
      "outputs": [
        {
          "output_type": "stream",
          "name": "stdout",
          "text": [
            "Maths - Total Score: 90, Percentage: 90.0%\n",
            "Physics - Total Score: 78, Percentage: 78.0%\n",
            "Chemistry - Total Score: 88, Percentage: 88.0%\n"
          ]
        }
      ]
    }
  ]
}